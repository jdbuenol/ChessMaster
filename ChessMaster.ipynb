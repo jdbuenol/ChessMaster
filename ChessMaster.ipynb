{
 "cells": [
  {
   "cell_type": "code",
   "execution_count": 1,
   "id": "distinguished-october",
   "metadata": {},
   "outputs": [],
   "source": [
    "from mesa import Agent, Model"
   ]
  },
  {
   "cell_type": "code",
   "execution_count": 2,
   "id": "appreciated-strain",
   "metadata": {},
   "outputs": [],
   "source": [
    "class ChessMaster(Agent):\n",
    "    def __init__(self):\n",
    "        print('Hello World, i am the ChessMaster, my objective is to play Chess in the best way possible.')"
   ]
  },
  {
   "cell_type": "code",
   "execution_count": 3,
   "id": "concrete-haiti",
   "metadata": {},
   "outputs": [],
   "source": [
    "class Model_HM(Model):\n",
    "    def __init__(self):\n",
    "        agent = ChessMaster()"
   ]
  },
  {
   "cell_type": "code",
   "execution_count": 5,
   "id": "offshore-error",
   "metadata": {},
   "outputs": [
    {
     "name": "stdout",
     "output_type": "stream",
     "text": [
      "Hello World, i am the ChessMaster, my objective is to play Chess in the best way possible.\n"
     ]
    }
   ],
   "source": [
    "new_model = Model_HM()"
   ]
  },
  {
   "cell_type": "code",
   "execution_count": null,
   "id": "controlling-seeker",
   "metadata": {},
   "outputs": [],
   "source": []
  }
 ],
 "metadata": {
  "kernelspec": {
   "display_name": "Python 3",
   "language": "python",
   "name": "python3"
  },
  "language_info": {
   "codemirror_mode": {
    "name": "ipython",
    "version": 3
   },
   "file_extension": ".py",
   "mimetype": "text/x-python",
   "name": "python",
   "nbconvert_exporter": "python",
   "pygments_lexer": "ipython3",
   "version": "3.9.7"
  }
 },
 "nbformat": 4,
 "nbformat_minor": 5
}
